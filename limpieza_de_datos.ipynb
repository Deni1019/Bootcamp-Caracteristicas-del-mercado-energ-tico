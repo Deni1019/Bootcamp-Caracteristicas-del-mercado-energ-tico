{
  "cells": [
    {
      "cell_type": "markdown",
      "metadata": {
        "colab_type": "text",
        "id": "view-in-github"
      },
      "source": [
        "<a href=\"https://colab.research.google.com/github/Deni1019/Bootcamp-Caracteristicas-del-mercado-energ-tico/blob/main/limpieza_de_datos.ipynb\" target=\"_parent\"><img src=\"https://colab.research.google.com/assets/colab-badge.svg\" alt=\"Open In Colab\"/></a>"
      ]
    },
    {
      "cell_type": "code",
      "execution_count": 9,
      "metadata": {},
      "outputs": [
        {
          "name": "stdout",
          "output_type": "stream",
          "text": [
            "Requirement already satisfied: pandas in /home/codespace/.local/lib/python3.12/site-packages (2.3.1)\n",
            "Requirement already satisfied: numpy in /home/codespace/.local/lib/python3.12/site-packages (2.3.1)\n",
            "Collecting openpyxl\n",
            "  Downloading openpyxl-3.1.5-py2.py3-none-any.whl.metadata (2.5 kB)\n",
            "Requirement already satisfied: python-dateutil>=2.8.2 in /home/codespace/.local/lib/python3.12/site-packages (from pandas) (2.9.0.post0)\n",
            "Requirement already satisfied: pytz>=2020.1 in /home/codespace/.local/lib/python3.12/site-packages (from pandas) (2025.2)\n",
            "Requirement already satisfied: tzdata>=2022.7 in /home/codespace/.local/lib/python3.12/site-packages (from pandas) (2025.2)\n",
            "Collecting et-xmlfile (from openpyxl)\n",
            "  Downloading et_xmlfile-2.0.0-py3-none-any.whl.metadata (2.7 kB)\n",
            "Requirement already satisfied: six>=1.5 in /home/codespace/.local/lib/python3.12/site-packages (from python-dateutil>=2.8.2->pandas) (1.17.0)\n",
            "Downloading openpyxl-3.1.5-py2.py3-none-any.whl (250 kB)\n",
            "Downloading et_xmlfile-2.0.0-py3-none-any.whl (18 kB)\n",
            "Installing collected packages: et-xmlfile, openpyxl\n",
            "\u001b[2K   \u001b[90m━━━━━━━━━━━━━━━━━━━━━━━━━━━━━━━━━━━━━━━━\u001b[0m \u001b[32m2/2\u001b[0m [openpyxl]1/2\u001b[0m [openpyxl]\n",
            "\u001b[1A\u001b[2KSuccessfully installed et-xmlfile-2.0.0 openpyxl-3.1.5\n",
            "\n",
            "\u001b[1m[\u001b[0m\u001b[34;49mnotice\u001b[0m\u001b[1;39;49m]\u001b[0m\u001b[39;49m A new release of pip is available: \u001b[0m\u001b[31;49m25.1.1\u001b[0m\u001b[39;49m -> \u001b[0m\u001b[32;49m25.2\u001b[0m\n",
            "\u001b[1m[\u001b[0m\u001b[34;49mnotice\u001b[0m\u001b[1;39;49m]\u001b[0m\u001b[39;49m To update, run: \u001b[0m\u001b[32;49mpython -m pip install --upgrade pip\u001b[0m\n",
            "Note: you may need to restart the kernel to use updated packages.\n"
          ]
        }
      ],
      "source": [
        "pip install pandas numpy openpyxl"
      ]
    },
    {
      "cell_type": "code",
      "execution_count": 10,
      "metadata": {
        "id": "5e4EXxtg6-76"
      },
      "outputs": [],
      "source": [
        "#importar librerias\n",
        "import pandas as pd\n",
        "import os\n",
        "import re"
      ]
    },
    {
      "cell_type": "code",
      "execution_count": 11,
      "metadata": {
        "id": "zyzOnpwk8Czd"
      },
      "outputs": [],
      "source": [
        "#Definir las rutas de acceso a los archivos\n",
        "ruta_demanda = 'data/demanda_energetica'\n",
        "ruta_produccion = 'data/produccion_energetica'\n",
        "ruta_diccionario = 'data/produccion_energetica/diccionario_plantas_departamento.xlsx'"
      ]
    },
    {
      "cell_type": "code",
      "execution_count": 12,
      "metadata": {
        "colab": {
          "base_uri": "https://localhost:8080/"
        },
        "id": "dloLPAs79G0t",
        "outputId": "880c527e-fa8f-49ad-c777-b8e42821821a"
      },
      "outputs": [
        {
          "name": "stdout",
          "output_type": "stream",
          "text": [
            "DataFrame original:\n",
            "6 Tipo/Fuente de energía Capacidad efectiva neta [MW]  \\\n",
            "0                 AMALFI                         0,81   \n",
            "1                AMERICA                         0,41   \n",
            "2                 ASNAZU                         0,45   \n",
            "3                 BAYONA                          0,6   \n",
            "4                  BELLO                         0,35   \n",
            "\n",
            "6                              Operador Fecha de puesta en operación FPO  \\\n",
            "0               HZ ENERGY S.A.S. E.S.P.                       05/08/2007   \n",
            "1  EMPRESAS PUBLICAS DE MEDELLIN E.S.P.                       01/01/1997   \n",
            "2                     VATIA S.A. E.S.P.                       01/01/1934   \n",
            "3      EMPRESAS PUBLICAS DE CALARCA ESP                       01/01/1943   \n",
            "4  EMPRESAS PUBLICAS DE MEDELLIN E.S.P.                       01/01/1997   \n",
            "\n",
            "6 Municipio Departamento            Subárea  \n",
            "0    AMALFI    ANTIOQUIA  SubArea Antioquia  \n",
            "1  MEDELLÍN    ANTIOQUIA  SubArea Antioquia  \n",
            "2    SUÁREZ        CAUCA      SubArea Valle  \n",
            "3   CALARCÁ      QUINDÍO        SubArea CQR  \n",
            "4     BELLO    ANTIOQUIA  SubArea Antioquia  \n",
            "_______________________________\n",
            "Serie de planta vs dpto.\n",
            "6 Tipo/Fuente de energía Departamento\n",
            "0                 AMALFI    ANTIOQUIA\n",
            "1                AMERICA    ANTIOQUIA\n",
            "2                 ASNAZU        CAUCA\n",
            "3                 BAYONA      QUINDÍO\n",
            "4                  BELLO    ANTIOQUIA\n",
            "_______________________________\n",
            "Serie filtrada\n",
            "6 Tipo/Fuente de energía Departamento\n",
            "0                 AMALFI    ANTIOQUIA\n",
            "1                AMERICA    ANTIOQUIA\n",
            "2                 ASNAZU        CAUCA\n",
            "3                 BAYONA      QUINDÍO\n",
            "4                  BELLO    ANTIOQUIA\n",
            "Tamaño de la serie filtrada: (314, 2)\n"
          ]
        }
      ],
      "source": [
        "diccionario = pd.read_excel(ruta_diccionario)\n",
        "diccionario.columns = diccionario.iloc[6]\n",
        "diccionario = diccionario.drop(index = range(0,10))\n",
        "diccionario = diccionario.reset_index(drop=True)\n",
        "print(\"DataFrame original:\")\n",
        "print(diccionario.head())\n",
        "print('_______________________________')\n",
        "print('Serie de planta vs dpto.')\n",
        "clave = diccionario[['Tipo/Fuente de energía','Departamento']]\n",
        "print(clave.head())\n",
        "print('_______________________________')\n",
        "print('Serie filtrada')\n",
        "mascara = clave['Departamento'].str.strip() != '-'\n",
        "clave_filtrada = clave[mascara]\n",
        "print(clave_filtrada.head())\n",
        "print(f'Tamaño de la serie filtrada: {clave_filtrada.shape}')"
      ]
    },
    {
      "cell_type": "code",
      "execution_count": 13,
      "metadata": {
        "colab": {
          "base_uri": "https://localhost:8080/",
          "height": 293
        },
        "id": "A1hyrq-l-aEL",
        "outputId": "fea135a2-f846-4d91-a590-9d60f8c8c175"
      },
      "outputs": [
        {
          "name": "stderr",
          "output_type": "stream",
          "text": [
            "/tmp/ipykernel_15503/3767197889.py:1: SettingWithCopyWarning: \n",
            "A value is trying to be set on a copy of a slice from a DataFrame\n",
            "\n",
            "See the caveats in the documentation: https://pandas.pydata.org/pandas-docs/stable/user_guide/indexing.html#returning-a-view-versus-a-copy\n",
            "  clave_filtrada.rename(columns={'Tipo/Fuente de energía': 'Planta'}, inplace=True)\n"
          ]
        },
        {
          "data": {
            "text/html": [
              "<div>\n",
              "<style scoped>\n",
              "    .dataframe tbody tr th:only-of-type {\n",
              "        vertical-align: middle;\n",
              "    }\n",
              "\n",
              "    .dataframe tbody tr th {\n",
              "        vertical-align: top;\n",
              "    }\n",
              "\n",
              "    .dataframe thead th {\n",
              "        text-align: right;\n",
              "    }\n",
              "</style>\n",
              "<table border=\"1\" class=\"dataframe\">\n",
              "  <thead>\n",
              "    <tr style=\"text-align: right;\">\n",
              "      <th>6</th>\n",
              "      <th>Planta</th>\n",
              "      <th>Departamento</th>\n",
              "    </tr>\n",
              "  </thead>\n",
              "  <tbody>\n",
              "    <tr>\n",
              "      <th>0</th>\n",
              "      <td>AMALFI</td>\n",
              "      <td>ANTIOQUIA</td>\n",
              "    </tr>\n",
              "    <tr>\n",
              "      <th>1</th>\n",
              "      <td>AMERICA</td>\n",
              "      <td>ANTIOQUIA</td>\n",
              "    </tr>\n",
              "    <tr>\n",
              "      <th>2</th>\n",
              "      <td>ASNAZU</td>\n",
              "      <td>CAUCA</td>\n",
              "    </tr>\n",
              "    <tr>\n",
              "      <th>3</th>\n",
              "      <td>BAYONA</td>\n",
              "      <td>QUINDÍO</td>\n",
              "    </tr>\n",
              "    <tr>\n",
              "      <th>4</th>\n",
              "      <td>BELLO</td>\n",
              "      <td>ANTIOQUIA</td>\n",
              "    </tr>\n",
              "  </tbody>\n",
              "</table>\n",
              "</div>"
            ],
            "text/plain": [
              "6           Planta Departamento\n",
              "0           AMALFI    ANTIOQUIA\n",
              "1          AMERICA    ANTIOQUIA\n",
              "2           ASNAZU        CAUCA\n",
              "3           BAYONA      QUINDÍO\n",
              "4            BELLO    ANTIOQUIA"
            ]
          },
          "execution_count": 13,
          "metadata": {},
          "output_type": "execute_result"
        }
      ],
      "source": [
        "clave_filtrada.rename(columns={'Tipo/Fuente de energía': 'Planta'}, inplace=True)\n",
        "diccionario_plantas = clave_filtrada\n",
        "diccionario_plantas.head()"
      ]
    },
    {
      "cell_type": "code",
      "execution_count": 14,
      "metadata": {
        "colab": {
          "base_uri": "https://localhost:8080/"
        },
        "id": "ZYls-zmUUbMc",
        "outputId": "dd59d9a3-fa3c-41ac-aac7-76386e7a2356"
      },
      "outputs": [
        {
          "name": "stdout",
          "output_type": "stream",
          "text": [
            "Archivo válido encontrado, procesando: produccion2017.xlsx\n",
            "Archivo válido encontrado, procesando: produccion2020.xlsx\n",
            "Archivo válido encontrado, procesando: produccion2021.xlsx\n",
            "Archivo válido encontrado, procesando: produccion2016.xlsx\n",
            "Archivo válido encontrado, procesando: produccion2022.xlsx\n",
            "Archivo válido encontrado, procesando: produccion2019.xlsx\n",
            "Archivo válido encontrado, procesando: produccion2023.xlsx\n",
            "Archivo válido encontrado, procesando: produccion2018.xlsx\n",
            "Archivo válido encontrado, procesando: produccion2015.xlsx\n",
            "Archivo válido encontrado, procesando: produccion2024.xlsx\n",
            "\n",
            "¡Proceso completado!\n",
            "Se procesaron 10 archivos de producción.\n",
            "            Planta Tipo Despacho  Generación [GWh]  Part.[%]   Año\n",
            "0           AMALFI            ND               0.0       0.0  2017\n",
            "1  PIEDRAS BLANCAS            ND               0.0       0.0  2017\n",
            "2     PURIFICACION            ND               0.0       0.0  2017\n",
            "3        RIO ABAJO            ND               0.0       0.0  2017\n",
            "4      RIO INGENIO            ND               0.0       0.0  2017\n"
          ]
        }
      ],
      "source": [
        "#Conseguir la información de produccion por departamento\n",
        "lista_df_produccion = []\n",
        "for archivo in os.listdir(ruta_produccion):\n",
        "    if archivo.startswith('produccion') and archivo.endswith('.xlsx'):\n",
        "\n",
        "        print(f\"Archivo válido encontrado, procesando: {archivo}\")\n",
        "        ruta_completa = os.path.join(ruta_produccion, archivo)\n",
        "\n",
        "        df_temporal = pd.read_excel(ruta_completa, header=2)\n",
        "\n",
        "        año = re.search(r'(\\d{4})', archivo).group(1)\n",
        "        df_temporal['Año'] = año\n",
        "\n",
        "        lista_df_produccion.append(df_temporal)\n",
        "\n",
        "df_produccion_total = pd.concat(lista_df_produccion, ignore_index=True)\n",
        "\n",
        "print(\"\\n¡Proceso completado!\")\n",
        "print(f\"Se procesaron {len(lista_df_produccion)} archivos de producción.\")\n",
        "print(df_produccion_total.head())\n",
        "\n"
      ]
    },
    {
      "cell_type": "code",
      "execution_count": 15,
      "metadata": {
        "colab": {
          "base_uri": "https://localhost:8080/"
        },
        "id": "7DxUMatmYdFu",
        "outputId": "597b94f3-7248-4eb7-fd6c-a10988b4af27"
      },
      "outputs": [
        {
          "name": "stdout",
          "output_type": "stream",
          "text": [
            "    Año           Planta  Generación [GWh]\n",
            "0  2017           AMALFI               0.0\n",
            "1  2017  PIEDRAS BLANCAS               0.0\n",
            "2  2017     PURIFICACION               0.0\n",
            "3  2017        RIO ABAJO               0.0\n",
            "4  2017      RIO INGENIO               0.0\n",
            "(3466, 3)\n"
          ]
        }
      ],
      "source": [
        "#El dataframe filtrado será\n",
        "produccion_dpto = df_produccion_total[['Año','Planta','Generación [GWh]']]\n",
        "print(produccion_dpto.head())\n",
        "print(produccion_dpto.shape)"
      ]
    },
    {
      "cell_type": "code",
      "execution_count": 16,
      "metadata": {
        "colab": {
          "base_uri": "https://localhost:8080/"
        },
        "id": "Fosbh5tRjhBP",
        "outputId": "5039639a-e15e-49b5-e50e-b3b6a9d69a37"
      },
      "outputs": [
        {
          "name": "stdout",
          "output_type": "stream",
          "text": [
            "6                       Planta     Departamento\n",
            "0                       AMALFI        ANTIOQUIA\n",
            "1                      AMERICA        ANTIOQUIA\n",
            "2                       ASNAZU            CAUCA\n",
            "3                       BAYONA          QUINDÍO\n",
            "4                        BELLO        ANTIOQUIA\n",
            "5          CAMPESTRE (CALARCA)          QUINDÍO\n",
            "6              CAMPESTRE (EPM)        ANTIOQUIA\n",
            "7                    EL COCUYO  VALLE DEL CAUCA\n",
            "8                     GUACAICA           CALDAS\n",
            "9                   INTERMEDIA           CALDAS\n",
            "314\n"
          ]
        }
      ],
      "source": [
        "print(diccionario_plantas.head(10))\n",
        "print(len(diccionario_plantas))"
      ]
    },
    {
      "cell_type": "code",
      "execution_count": 23,
      "metadata": {
        "id": "LnXYG-r1O58-"
      },
      "outputs": [],
      "source": [
        "#Asignar estas plantas manualmente hasta masomenos llegar a un estimativo razonable\n",
        "\n",
        "plantas_nuevas = ['PAGUA', 'GUATRON', 'ALBAN', 'FLORES 4B', 'TERMOSIERRAB', 'FLORES 1']\n",
        "departamentos_nuevas = ['CUNDINAMARCA', 'ANTIOQUIA', 'VALLE DEL CAUCA', 'ATLÁNTICO', 'ANTIOQUIA', 'ATLÁNTICO']\n",
        "plantas_nuevas_dict = {'Planta': plantas_nuevas, 'Departamento': departamentos_nuevas}\n",
        "df_diccionario = pd.DataFrame(plantas_nuevas_dict)\n",
        "\n",
        "#Concatenar los resultados al diccionario por dpto\n",
        "diccionario_plantas = pd.concat([diccionario_plantas, df_diccionario], ignore_index=True)"
      ]
    },
    {
      "cell_type": "code",
      "execution_count": 24,
      "metadata": {
        "colab": {
          "base_uri": "https://localhost:8080/"
        },
        "id": "VyswQMxNrmOr",
        "outputId": "f7411ea8-3b11-42cd-fab9-c3f7fa1f5af8"
      },
      "outputs": [
        {
          "name": "stdout",
          "output_type": "stream",
          "text": [
            "Plantas no encontradas (1273, 4)\n",
            "--- Ranking de Plantas Faltantes por Impacto (Top 20) ---\n",
            "                          Planta  Generación [GWh]\n",
            "548                   EL MORRO 1        937.470253\n",
            "542                     CIMARRON        851.053237\n",
            "549                   EL MORRO 2        825.937034\n",
            "564             JEPIRACHI 1 - 15        373.227925\n",
            "575      PARQUE EOLICO GUAJIRA I        213.346203\n",
            "602             TRINA-VATIA BSLI        189.875826\n",
            "603            TRINA-VATIA BSLII        177.441325\n",
            "604           TRINA-VATIA BSLIII        174.781883\n",
            "569                    LA SIERPE        144.854612\n",
            "576         PARQUE EÓLICO WESP01        139.530813\n",
            "543       COGENERADOR COLTEJER 1        118.982442\n",
            "594                        SINCE        107.105219\n",
            "528         CELSIA SOLAR BOLIVAR         91.974119\n",
            "531          CELSIA SOLAR DULIMA         87.179215\n",
            "553         GRANJA SOLAR FLANDES         83.813653\n",
            "570                     LA TOLUA         78.761940\n",
            "508        AUTOG ECOPETROL ORITO         78.546742\n",
            "535  CELSIA SOLAR LA VICTORIA II         67.831013\n",
            "534   CELSIA SOLAR LA VICTORIA I         67.696991\n",
            "532         CELSIA SOLAR ESPINAL         60.526761\n"
          ]
        },
        {
          "name": "stderr",
          "output_type": "stream",
          "text": [
            "/tmp/ipykernel_15503/4117111255.py:14: SettingWithCopyWarning: \n",
            "A value is trying to be set on a copy of a slice from a DataFrame.\n",
            "Try using .loc[row_indexer,col_indexer] = value instead\n",
            "\n",
            "See the caveats in the documentation: https://pandas.pydata.org/pandas-docs/stable/user_guide/indexing.html#returning-a-view-versus-a-copy\n",
            "  produccion_dpto['llave_planta'] = produccion_dpto['Planta'].apply(crear_llave_normalizada)\n"
          ]
        }
      ],
      "source": [
        "def crear_llave_normalizada(nombre_planta):\n",
        "    if not isinstance(nombre_planta, str):\n",
        "        return \"\"\n",
        "    texto = nombre_planta.lower()\n",
        "    texto = texto.replace('á', 'a').replace('é', 'e').replace('í', 'i').replace('ó', 'o').replace('ú', 'u')\n",
        "    texto = re.sub(r'[^a-z0-9\\s]', '', texto)\n",
        "    palabras_a_quitar = ['planta', 'central', 'sa', 'esp', 'cc', 'sas', 'ltda', '1', '2', 'autog', 'autg', 'agpe']\n",
        "    for palabra in palabras_a_quitar:\n",
        "        texto = re.sub(r'\\b' + palabra + r'\\b', '', texto)\n",
        "\n",
        "    texto = re.sub(r'\\s+', '', texto)\n",
        "    return texto.strip()\n",
        "\n",
        "produccion_dpto['llave_planta'] = produccion_dpto['Planta'].apply(crear_llave_normalizada)\n",
        "diccionario_plantas['llave_planta'] = diccionario_plantas['Planta'].apply(crear_llave_normalizada)\n",
        "\n",
        "lista_plantas_diccionario = diccionario_plantas['llave_planta'].unique()\n",
        "plantas_no_encontradas = produccion_dpto[~produccion_dpto['llave_planta'].isin(lista_plantas_diccionario)]\n",
        "\n",
        "ranking_faltantes = plantas_no_encontradas.groupby('Planta')['Generación [GWh]'].sum().reset_index()\n",
        "ranking_faltantes_ordenado = ranking_faltantes.sort_values(by='Generación [GWh]', ascending=False)\n",
        "\n",
        "print(f'Plantas no encontradas {plantas_no_encontradas.shape}')\n",
        "print(\"--- Ranking de Plantas Faltantes por Impacto (Top 20) ---\")\n",
        "print(ranking_faltantes_ordenado.head(20))"
      ]
    },
    {
      "cell_type": "code",
      "execution_count": 25,
      "metadata": {
        "colab": {
          "base_uri": "https://localhost:8080/"
        },
        "id": "fTnhnbpUPy8R",
        "outputId": "323a02d8-b625-4fed-e32c-d837b8f3fee5"
      },
      "outputs": [
        {
          "name": "stdout",
          "output_type": "stream",
          "text": [
            "Hay 1273 plantas que no fueron asignadas a un dpto\n",
            "Porcentaje de energía NO ASIGNADA: 0.87%\n",
            "Porcentaje de energía que SÍ FUE ASIGNADA a un departamento: 99.13%\n"
          ]
        }
      ],
      "source": [
        "#Cálculo del Porcentaje Asignado\n",
        "generacion_total = produccion_dpto['Generación [GWh]'].sum()\n",
        "generacion_no_asignada = plantas_no_encontradas['Generación [GWh]'].sum()\n",
        "porcentaje_no_asignado = (generacion_no_asignada / generacion_total) * 100\n",
        "\n",
        "print(f\"Hay {len(plantas_no_encontradas)} plantas que no fueron asignadas a un dpto\")\n",
        "print(f\"Porcentaje de energía NO ASIGNADA: {porcentaje_no_asignado:.2f}%\")\n",
        "print(f\"Porcentaje de energía que SÍ FUE ASIGNADA a un departamento: {100 - porcentaje_no_asignado:.2f}%\")"
      ]
    },
    {
      "cell_type": "code",
      "execution_count": 26,
      "metadata": {
        "colab": {
          "base_uri": "https://localhost:8080/",
          "height": 708
        },
        "id": "IT_kmOtuIiVp",
        "outputId": "b9a5796d-8234-4b39-829b-f281285b1218"
      },
      "outputs": [
        {
          "data": {
            "text/html": [
              "<div>\n",
              "<style scoped>\n",
              "    .dataframe tbody tr th:only-of-type {\n",
              "        vertical-align: middle;\n",
              "    }\n",
              "\n",
              "    .dataframe tbody tr th {\n",
              "        vertical-align: top;\n",
              "    }\n",
              "\n",
              "    .dataframe thead th {\n",
              "        text-align: right;\n",
              "    }\n",
              "</style>\n",
              "<table border=\"1\" class=\"dataframe\">\n",
              "  <thead>\n",
              "    <tr style=\"text-align: right;\">\n",
              "      <th></th>\n",
              "      <th>Planta</th>\n",
              "      <th>Generación [GWh]</th>\n",
              "    </tr>\n",
              "  </thead>\n",
              "  <tbody>\n",
              "    <tr>\n",
              "      <th>548</th>\n",
              "      <td>EL MORRO 1</td>\n",
              "      <td>937.470253</td>\n",
              "    </tr>\n",
              "    <tr>\n",
              "      <th>542</th>\n",
              "      <td>CIMARRON</td>\n",
              "      <td>851.053237</td>\n",
              "    </tr>\n",
              "    <tr>\n",
              "      <th>549</th>\n",
              "      <td>EL MORRO 2</td>\n",
              "      <td>825.937034</td>\n",
              "    </tr>\n",
              "    <tr>\n",
              "      <th>564</th>\n",
              "      <td>JEPIRACHI 1 - 15</td>\n",
              "      <td>373.227925</td>\n",
              "    </tr>\n",
              "    <tr>\n",
              "      <th>575</th>\n",
              "      <td>PARQUE EOLICO GUAJIRA I</td>\n",
              "      <td>213.346203</td>\n",
              "    </tr>\n",
              "    <tr>\n",
              "      <th>602</th>\n",
              "      <td>TRINA-VATIA BSLI</td>\n",
              "      <td>189.875826</td>\n",
              "    </tr>\n",
              "    <tr>\n",
              "      <th>603</th>\n",
              "      <td>TRINA-VATIA BSLII</td>\n",
              "      <td>177.441325</td>\n",
              "    </tr>\n",
              "    <tr>\n",
              "      <th>604</th>\n",
              "      <td>TRINA-VATIA BSLIII</td>\n",
              "      <td>174.781883</td>\n",
              "    </tr>\n",
              "    <tr>\n",
              "      <th>569</th>\n",
              "      <td>LA SIERPE</td>\n",
              "      <td>144.854612</td>\n",
              "    </tr>\n",
              "    <tr>\n",
              "      <th>576</th>\n",
              "      <td>PARQUE EÓLICO WESP01</td>\n",
              "      <td>139.530813</td>\n",
              "    </tr>\n",
              "    <tr>\n",
              "      <th>543</th>\n",
              "      <td>COGENERADOR COLTEJER 1</td>\n",
              "      <td>118.982442</td>\n",
              "    </tr>\n",
              "    <tr>\n",
              "      <th>594</th>\n",
              "      <td>SINCE</td>\n",
              "      <td>107.105219</td>\n",
              "    </tr>\n",
              "    <tr>\n",
              "      <th>528</th>\n",
              "      <td>CELSIA SOLAR BOLIVAR</td>\n",
              "      <td>91.974119</td>\n",
              "    </tr>\n",
              "    <tr>\n",
              "      <th>531</th>\n",
              "      <td>CELSIA SOLAR DULIMA</td>\n",
              "      <td>87.179215</td>\n",
              "    </tr>\n",
              "    <tr>\n",
              "      <th>553</th>\n",
              "      <td>GRANJA SOLAR FLANDES</td>\n",
              "      <td>83.813653</td>\n",
              "    </tr>\n",
              "    <tr>\n",
              "      <th>570</th>\n",
              "      <td>LA TOLUA</td>\n",
              "      <td>78.761940</td>\n",
              "    </tr>\n",
              "    <tr>\n",
              "      <th>508</th>\n",
              "      <td>AUTOG ECOPETROL ORITO</td>\n",
              "      <td>78.546742</td>\n",
              "    </tr>\n",
              "    <tr>\n",
              "      <th>535</th>\n",
              "      <td>CELSIA SOLAR LA VICTORIA II</td>\n",
              "      <td>67.831013</td>\n",
              "    </tr>\n",
              "    <tr>\n",
              "      <th>534</th>\n",
              "      <td>CELSIA SOLAR LA VICTORIA I</td>\n",
              "      <td>67.696991</td>\n",
              "    </tr>\n",
              "    <tr>\n",
              "      <th>532</th>\n",
              "      <td>CELSIA SOLAR ESPINAL</td>\n",
              "      <td>60.526761</td>\n",
              "    </tr>\n",
              "    <tr>\n",
              "      <th>560</th>\n",
              "      <td>HELIOS I</td>\n",
              "      <td>56.781537</td>\n",
              "    </tr>\n",
              "  </tbody>\n",
              "</table>\n",
              "</div>"
            ],
            "text/plain": [
              "                          Planta  Generación [GWh]\n",
              "548                   EL MORRO 1        937.470253\n",
              "542                     CIMARRON        851.053237\n",
              "549                   EL MORRO 2        825.937034\n",
              "564             JEPIRACHI 1 - 15        373.227925\n",
              "575      PARQUE EOLICO GUAJIRA I        213.346203\n",
              "602             TRINA-VATIA BSLI        189.875826\n",
              "603            TRINA-VATIA BSLII        177.441325\n",
              "604           TRINA-VATIA BSLIII        174.781883\n",
              "569                    LA SIERPE        144.854612\n",
              "576         PARQUE EÓLICO WESP01        139.530813\n",
              "543       COGENERADOR COLTEJER 1        118.982442\n",
              "594                        SINCE        107.105219\n",
              "528         CELSIA SOLAR BOLIVAR         91.974119\n",
              "531          CELSIA SOLAR DULIMA         87.179215\n",
              "553         GRANJA SOLAR FLANDES         83.813653\n",
              "570                     LA TOLUA         78.761940\n",
              "508        AUTOG ECOPETROL ORITO         78.546742\n",
              "535  CELSIA SOLAR LA VICTORIA II         67.831013\n",
              "534   CELSIA SOLAR LA VICTORIA I         67.696991\n",
              "532         CELSIA SOLAR ESPINAL         60.526761\n",
              "560                     HELIOS I         56.781537"
            ]
          },
          "execution_count": 26,
          "metadata": {},
          "output_type": "execute_result"
        }
      ],
      "source": [
        "ranking_faltantes_ordenado[:21]"
      ]
    },
    {
      "cell_type": "code",
      "execution_count": 27,
      "metadata": {
        "colab": {
          "base_uri": "https://localhost:8080/"
        },
        "id": "te_ir44-yjOA",
        "outputId": "fe6ffb91-5623-49ae-951e-7e8aae2ea981"
      },
      "outputs": [
        {
          "name": "stdout",
          "output_type": "stream",
          "text": [
            "DataFrame Final: Producción por Año y Departamento\n",
            "    Año  Departamento  Produccion_GWh\n",
            "0  2015     ANTIOQUIA    23974.773169\n",
            "1  2015     ATLÁNTICO    11224.281977\n",
            "2  2015  BOGOTÁ, D.C.       20.204581\n",
            "3  2015       BOLÍVAR     1205.155267\n",
            "4  2015        BOYACÁ     7394.486413\n",
            "5  2015        CALDAS     1568.395504\n",
            "6  2015      CASANARE      818.884378\n",
            "7  2015         CAUCA     1000.681798\n",
            "8  2015  CUNDINAMARCA    15270.937250\n",
            "9  2015       CÓRDOBA     1440.367882\n"
          ]
        },
        {
          "name": "stderr",
          "output_type": "stream",
          "text": [
            "/tmp/ipykernel_15503/1777290254.py:9: FutureWarning: A value is trying to be set on a copy of a DataFrame or Series through chained assignment using an inplace method.\n",
            "The behavior will change in pandas 3.0. This inplace method will never work because the intermediate object on which we are setting values always behaves as a copy.\n",
            "\n",
            "For example, when doing 'df[col].method(value, inplace=True)', try using 'df.method({col: value}, inplace=True)' or df[col] = df[col].method(value) instead, to perform the operation inplace on the original object.\n",
            "\n",
            "\n",
            "  produccion_con_dpto['Departamento'].fillna('No Asignado / Menores', inplace=True)\n"
          ]
        }
      ],
      "source": [
        "# Unimos la tabla de producción con el diccionario usando la llave normalizada.\n",
        "produccion_con_dpto = pd.merge(\n",
        "    produccion_dpto,\n",
        "    diccionario_plantas,\n",
        "    on='llave_planta',\n",
        "    how='left'\n",
        ")\n",
        "\n",
        "produccion_con_dpto['Departamento'].fillna('No Asignado / Menores', inplace=True)\n",
        "\n",
        "produccion_agrupada = produccion_con_dpto.groupby(['Año', 'Departamento'])['Generación [GWh]'].sum().reset_index()\n",
        "\n",
        "produccion_final = produccion_agrupada.rename(columns={\n",
        "    'Departamento': 'Departamento',\n",
        "    'Generación [GWh]': 'Produccion_GWh'\n",
        "})\n",
        "\n",
        "print(\"DataFrame Final: Producción por Año y Departamento\")\n",
        "print(produccion_final.head(10))"
      ]
    },
    {
      "cell_type": "markdown",
      "metadata": {
        "id": "9f513ab0"
      },
      "source": [
        "The error `IsADirectoryError: [Errno 21] Is a directory: '/content/drive/MyDrive/archivos energeticos/demanda_energetica'` occurs because you are trying to use `pd.read_excel` on a directory path (`ruta_demanda`) instead of a file path. Inside the loop, you should be reading each individual Excel file found in the directory. Also, you are currently appending the temporary dataframes to `lista_df_produccion` instead of `lista_df_demanda`.\n",
        "\n",
        "I will provide a corrected version of the code for cell `huk8Hqx-0BaO` to fix these issues."
      ]
    },
    {
      "cell_type": "code",
      "execution_count": 28,
      "metadata": {
        "colab": {
          "base_uri": "https://localhost:8080/",
          "height": 432
        },
        "id": "450e7328",
        "outputId": "d973d7f6-dbfb-4d96-c205-56ef92166318"
      },
      "outputs": [
        {
          "name": "stdout",
          "output_type": "stream",
          "text": [
            "Archivo válido encontrado, procesando: demanda2021.csv\n",
            "Archivo válido encontrado, procesando: demanda2018.csv\n",
            "Archivo válido encontrado, procesando: demanda2023.csv\n",
            "Archivo válido encontrado, procesando: demanda2024.csv\n",
            "Archivo válido encontrado, procesando: demanda2022.csv\n",
            "Archivo válido encontrado, procesando: demanda2015.csv\n",
            "Archivo válido encontrado, procesando: demanda2016.csv\n",
            "Archivo válido encontrado, procesando: demanda2019.csv\n",
            "Archivo válido encontrado, procesando: demanda2020.csv\n",
            "Archivo válido encontrado, procesando: demanda2017.csv\n",
            "\n",
            "¡Proceso completado!\n",
            "Se procesaron 10 archivos de demanda.\n"
          ]
        },
        {
          "data": {
            "text/html": [
              "<div>\n",
              "<style scoped>\n",
              "    .dataframe tbody tr th:only-of-type {\n",
              "        vertical-align: middle;\n",
              "    }\n",
              "\n",
              "    .dataframe tbody tr th {\n",
              "        vertical-align: top;\n",
              "    }\n",
              "\n",
              "    .dataframe thead th {\n",
              "        text-align: right;\n",
              "    }\n",
              "</style>\n",
              "<table border=\"1\" class=\"dataframe\">\n",
              "  <thead>\n",
              "    <tr style=\"text-align: right;\">\n",
              "      <th></th>\n",
              "      <th>Departamento</th>\n",
              "      <th>Municipio</th>\n",
              "      <th>Demanda Real [MWh]</th>\n",
              "      <th>Participación [%]</th>\n",
              "      <th>Año</th>\n",
              "    </tr>\n",
              "  </thead>\n",
              "  <tbody>\n",
              "    <tr>\n",
              "      <th>0</th>\n",
              "      <td>Bogotá. D.C.</td>\n",
              "      <td>Bogota D.C</td>\n",
              "      <td>2.270312e+06</td>\n",
              "      <td>9,99%</td>\n",
              "      <td>2021</td>\n",
              "    </tr>\n",
              "    <tr>\n",
              "      <th>1</th>\n",
              "      <td>Bolívar</td>\n",
              "      <td>Cartagena</td>\n",
              "      <td>1.204541e+06</td>\n",
              "      <td>5,30%</td>\n",
              "      <td>2021</td>\n",
              "    </tr>\n",
              "    <tr>\n",
              "      <th>2</th>\n",
              "      <td>Córdoba</td>\n",
              "      <td>Montelibano</td>\n",
              "      <td>1.158674e+06</td>\n",
              "      <td>5,10%</td>\n",
              "      <td>2021</td>\n",
              "    </tr>\n",
              "    <tr>\n",
              "      <th>3</th>\n",
              "      <td>Atlántico</td>\n",
              "      <td>Barranquilla</td>\n",
              "      <td>9.708808e+05</td>\n",
              "      <td>4,27%</td>\n",
              "      <td>2021</td>\n",
              "    </tr>\n",
              "    <tr>\n",
              "      <th>4</th>\n",
              "      <td>Valle Del Cauca</td>\n",
              "      <td>Cali</td>\n",
              "      <td>9.178343e+05</td>\n",
              "      <td>4,04%</td>\n",
              "      <td>2021</td>\n",
              "    </tr>\n",
              "  </tbody>\n",
              "</table>\n",
              "</div>"
            ],
            "text/plain": [
              "      Departamento     Municipio  Demanda Real [MWh] Participación [%]   Año\n",
              "0     Bogotá. D.C.    Bogota D.C        2.270312e+06             9,99%  2021\n",
              "1          Bolívar     Cartagena        1.204541e+06             5,30%  2021\n",
              "2          Córdoba   Montelibano        1.158674e+06             5,10%  2021\n",
              "3        Atlántico  Barranquilla        9.708808e+05             4,27%  2021\n",
              "4  Valle Del Cauca          Cali        9.178343e+05             4,04%  2021"
            ]
          },
          "metadata": {},
          "output_type": "display_data"
        }
      ],
      "source": [
        "#Leer y agrupar la demanda energetica\n",
        "lista_df_demanda = []\n",
        "for archivo in os.listdir(ruta_demanda):\n",
        "    if archivo.startswith('demanda') and archivo.endswith('.csv'):\n",
        "\n",
        "        print(f\"Archivo válido encontrado, procesando: {archivo}\")\n",
        "        ruta_completa = os.path.join(ruta_demanda, archivo)\n",
        "\n",
        "        df_temporal = pd.read_csv(ruta_completa)\n",
        "\n",
        "        año = re.search(r'(\\d{4})', archivo).group(1)\n",
        "        df_temporal['Año'] = año\n",
        "\n",
        "        lista_df_demanda.append(df_temporal)\n",
        "\n",
        "df_demanda_total = pd.concat(lista_df_demanda, ignore_index=True)\n",
        "\n",
        "print(\"\\n¡Proceso completado!\")\n",
        "print(f\"Se procesaron {len(lista_df_demanda)} archivos de demanda.\")\n",
        "display(df_demanda_total.head())"
      ]
    },
    {
      "cell_type": "code",
      "execution_count": 29,
      "metadata": {
        "colab": {
          "base_uri": "https://localhost:8080/",
          "height": 224
        },
        "id": "7LEb7m5g8HNu",
        "outputId": "d567b2da-c5bf-4693-e2b5-65e7818f1304"
      },
      "outputs": [
        {
          "name": "stdout",
          "output_type": "stream",
          "text": [
            "DataFrame de Demanda Limpio y Estandarizado\n"
          ]
        },
        {
          "data": {
            "text/html": [
              "<div>\n",
              "<style scoped>\n",
              "    .dataframe tbody tr th:only-of-type {\n",
              "        vertical-align: middle;\n",
              "    }\n",
              "\n",
              "    .dataframe tbody tr th {\n",
              "        vertical-align: top;\n",
              "    }\n",
              "\n",
              "    .dataframe thead th {\n",
              "        text-align: right;\n",
              "    }\n",
              "</style>\n",
              "<table border=\"1\" class=\"dataframe\">\n",
              "  <thead>\n",
              "    <tr style=\"text-align: right;\">\n",
              "      <th></th>\n",
              "      <th>Año</th>\n",
              "      <th>Departamento</th>\n",
              "      <th>Energia_GWh</th>\n",
              "      <th>Tipo</th>\n",
              "    </tr>\n",
              "  </thead>\n",
              "  <tbody>\n",
              "    <tr>\n",
              "      <th>0</th>\n",
              "      <td>2021</td>\n",
              "      <td>Bogotá. D.C.</td>\n",
              "      <td>2.270312e+06</td>\n",
              "      <td>Demanda</td>\n",
              "    </tr>\n",
              "    <tr>\n",
              "      <th>1</th>\n",
              "      <td>2021</td>\n",
              "      <td>Bolívar</td>\n",
              "      <td>1.204541e+06</td>\n",
              "      <td>Demanda</td>\n",
              "    </tr>\n",
              "    <tr>\n",
              "      <th>2</th>\n",
              "      <td>2021</td>\n",
              "      <td>Córdoba</td>\n",
              "      <td>1.158674e+06</td>\n",
              "      <td>Demanda</td>\n",
              "    </tr>\n",
              "    <tr>\n",
              "      <th>3</th>\n",
              "      <td>2021</td>\n",
              "      <td>Atlántico</td>\n",
              "      <td>9.708808e+05</td>\n",
              "      <td>Demanda</td>\n",
              "    </tr>\n",
              "    <tr>\n",
              "      <th>4</th>\n",
              "      <td>2021</td>\n",
              "      <td>Valle Del Cauca</td>\n",
              "      <td>9.178343e+05</td>\n",
              "      <td>Demanda</td>\n",
              "    </tr>\n",
              "  </tbody>\n",
              "</table>\n",
              "</div>"
            ],
            "text/plain": [
              "    Año     Departamento   Energia_GWh     Tipo\n",
              "0  2021     Bogotá. D.C.  2.270312e+06  Demanda\n",
              "1  2021          Bolívar  1.204541e+06  Demanda\n",
              "2  2021          Córdoba  1.158674e+06  Demanda\n",
              "3  2021        Atlántico  9.708808e+05  Demanda\n",
              "4  2021  Valle Del Cauca  9.178343e+05  Demanda"
            ]
          },
          "metadata": {},
          "output_type": "display_data"
        }
      ],
      "source": [
        "demanda_limpia = df_demanda_total[['Año', 'Departamento', 'Demanda Real [MWh]']].copy()\n",
        "\n",
        "demanda_limpia.rename(columns={'Demanda Real [MWh]': 'Energia_GWh'}, inplace=True)\n",
        "\n",
        "demanda_limpia['Tipo'] = 'Demanda'\n",
        "\n",
        "print(\"DataFrame de Demanda Limpio y Estandarizado\")\n",
        "display(demanda_limpia.head())"
      ]
    },
    {
      "cell_type": "code",
      "execution_count": 30,
      "metadata": {
        "colab": {
          "base_uri": "https://localhost:8080/"
        },
        "id": "pf7kuzKk2xPe",
        "outputId": "25b849da-2bb4-47fa-b496-3680d7088e4b"
      },
      "outputs": [
        {
          "data": {
            "text/plain": [
              "array(['Bogotá. D.C.', 'Bolívar', 'Córdoba', 'Atlántico',\n",
              "       'Valle Del Cauca', 'Antioquia', 'Boyacá', 'Santander', 'Meta',\n",
              "       'Arauca', 'Cundinamarca', 'Caldas', 'Tolima', 'Norte De Santander',\n",
              "       'Magdalena', 'La Guajira', 'Risaralda', 'Cauca', 'Huila', 'Cesar',\n",
              "       'Sucre', 'Casanare', 'Quindío', 'Nariño', 'Putumayo', 'Chocó',\n",
              "       'Caquetá'], dtype=object)"
            ]
          },
          "execution_count": 30,
          "metadata": {},
          "output_type": "execute_result"
        }
      ],
      "source": [
        "demanda_limpia['Departamento'].unique()"
      ]
    },
    {
      "cell_type": "code",
      "execution_count": 31,
      "metadata": {
        "colab": {
          "base_uri": "https://localhost:8080/",
          "height": 224
        },
        "id": "991FmXAm9zvP",
        "outputId": "8c82a23e-79b7-4750-a074-730b75ab3deb"
      },
      "outputs": [
        {
          "name": "stdout",
          "output_type": "stream",
          "text": [
            "--- DataFrame de Producción listo para la unión ---\n"
          ]
        },
        {
          "data": {
            "text/html": [
              "<div>\n",
              "<style scoped>\n",
              "    .dataframe tbody tr th:only-of-type {\n",
              "        vertical-align: middle;\n",
              "    }\n",
              "\n",
              "    .dataframe tbody tr th {\n",
              "        vertical-align: top;\n",
              "    }\n",
              "\n",
              "    .dataframe thead th {\n",
              "        text-align: right;\n",
              "    }\n",
              "</style>\n",
              "<table border=\"1\" class=\"dataframe\">\n",
              "  <thead>\n",
              "    <tr style=\"text-align: right;\">\n",
              "      <th></th>\n",
              "      <th>Año</th>\n",
              "      <th>Departamento</th>\n",
              "      <th>Energia_GWh</th>\n",
              "      <th>Tipo</th>\n",
              "    </tr>\n",
              "  </thead>\n",
              "  <tbody>\n",
              "    <tr>\n",
              "      <th>0</th>\n",
              "      <td>2015</td>\n",
              "      <td>ANTIOQUIA</td>\n",
              "      <td>23974.773169</td>\n",
              "      <td>Produccion</td>\n",
              "    </tr>\n",
              "    <tr>\n",
              "      <th>1</th>\n",
              "      <td>2015</td>\n",
              "      <td>ATLÁNTICO</td>\n",
              "      <td>11224.281977</td>\n",
              "      <td>Produccion</td>\n",
              "    </tr>\n",
              "    <tr>\n",
              "      <th>2</th>\n",
              "      <td>2015</td>\n",
              "      <td>BOGOTÁ, D.C.</td>\n",
              "      <td>20.204581</td>\n",
              "      <td>Produccion</td>\n",
              "    </tr>\n",
              "    <tr>\n",
              "      <th>3</th>\n",
              "      <td>2015</td>\n",
              "      <td>BOLÍVAR</td>\n",
              "      <td>1205.155267</td>\n",
              "      <td>Produccion</td>\n",
              "    </tr>\n",
              "    <tr>\n",
              "      <th>4</th>\n",
              "      <td>2015</td>\n",
              "      <td>BOYACÁ</td>\n",
              "      <td>7394.486413</td>\n",
              "      <td>Produccion</td>\n",
              "    </tr>\n",
              "  </tbody>\n",
              "</table>\n",
              "</div>"
            ],
            "text/plain": [
              "    Año  Departamento   Energia_GWh        Tipo\n",
              "0  2015     ANTIOQUIA  23974.773169  Produccion\n",
              "1  2015     ATLÁNTICO  11224.281977  Produccion\n",
              "2  2015  BOGOTÁ, D.C.     20.204581  Produccion\n",
              "3  2015       BOLÍVAR   1205.155267  Produccion\n",
              "4  2015        BOYACÁ   7394.486413  Produccion"
            ]
          },
          "metadata": {},
          "output_type": "display_data"
        }
      ],
      "source": [
        "produccion_para_unir = produccion_final.copy()\n",
        "\n",
        "produccion_para_unir.rename(columns={'Produccion_GWh': 'Energia_GWh'}, inplace=True)\n",
        "\n",
        "produccion_para_unir['Tipo'] = 'Produccion'\n",
        "\n",
        "print(\"--- DataFrame de Producción listo para la unión ---\")\n",
        "display(produccion_para_unir.head())"
      ]
    },
    {
      "cell_type": "code",
      "execution_count": 32,
      "metadata": {
        "colab": {
          "base_uri": "https://localhost:8080/",
          "height": 430
        },
        "id": "xGJTXI7D_E2Y",
        "outputId": "3e32d999-3fed-4ce3-b10a-ff19592a4bff"
      },
      "outputs": [
        {
          "name": "stdout",
          "output_type": "stream",
          "text": [
            "DataFrame Unificado y Listo para Power BI\n"
          ]
        },
        {
          "data": {
            "text/html": [
              "<div>\n",
              "<style scoped>\n",
              "    .dataframe tbody tr th:only-of-type {\n",
              "        vertical-align: middle;\n",
              "    }\n",
              "\n",
              "    .dataframe tbody tr th {\n",
              "        vertical-align: top;\n",
              "    }\n",
              "\n",
              "    .dataframe thead th {\n",
              "        text-align: right;\n",
              "    }\n",
              "</style>\n",
              "<table border=\"1\" class=\"dataframe\">\n",
              "  <thead>\n",
              "    <tr style=\"text-align: right;\">\n",
              "      <th></th>\n",
              "      <th>Año</th>\n",
              "      <th>Departamento</th>\n",
              "      <th>Energia_GWh</th>\n",
              "      <th>Tipo</th>\n",
              "    </tr>\n",
              "  </thead>\n",
              "  <tbody>\n",
              "    <tr>\n",
              "      <th>0</th>\n",
              "      <td>2015</td>\n",
              "      <td>ANTIOQUIA</td>\n",
              "      <td>23974.773169</td>\n",
              "      <td>Produccion</td>\n",
              "    </tr>\n",
              "    <tr>\n",
              "      <th>1</th>\n",
              "      <td>2015</td>\n",
              "      <td>ATLÁNTICO</td>\n",
              "      <td>11224.281977</td>\n",
              "      <td>Produccion</td>\n",
              "    </tr>\n",
              "    <tr>\n",
              "      <th>3139</th>\n",
              "      <td>2015</td>\n",
              "      <td>Antioquia</td>\n",
              "      <td>343.684690</td>\n",
              "      <td>Demanda</td>\n",
              "    </tr>\n",
              "    <tr>\n",
              "      <th>3140</th>\n",
              "      <td>2015</td>\n",
              "      <td>Antioquia</td>\n",
              "      <td>20732.464590</td>\n",
              "      <td>Demanda</td>\n",
              "    </tr>\n",
              "    <tr>\n",
              "      <th>3141</th>\n",
              "      <td>2015</td>\n",
              "      <td>Antioquia</td>\n",
              "      <td>729.334300</td>\n",
              "      <td>Demanda</td>\n",
              "    </tr>\n",
              "  </tbody>\n",
              "</table>\n",
              "</div>"
            ],
            "text/plain": [
              "       Año Departamento   Energia_GWh        Tipo\n",
              "0     2015    ANTIOQUIA  23974.773169  Produccion\n",
              "1     2015    ATLÁNTICO  11224.281977  Produccion\n",
              "3139  2015    Antioquia    343.684690     Demanda\n",
              "3140  2015    Antioquia  20732.464590     Demanda\n",
              "3141  2015    Antioquia    729.334300     Demanda"
            ]
          },
          "metadata": {},
          "output_type": "display_data"
        },
        {
          "name": "stdout",
          "output_type": "stream",
          "text": [
            "...\n"
          ]
        },
        {
          "data": {
            "text/html": [
              "<div>\n",
              "<style scoped>\n",
              "    .dataframe tbody tr th:only-of-type {\n",
              "        vertical-align: middle;\n",
              "    }\n",
              "\n",
              "    .dataframe tbody tr th {\n",
              "        vertical-align: top;\n",
              "    }\n",
              "\n",
              "    .dataframe thead th {\n",
              "        text-align: right;\n",
              "    }\n",
              "</style>\n",
              "<table border=\"1\" class=\"dataframe\">\n",
              "  <thead>\n",
              "    <tr style=\"text-align: right;\">\n",
              "      <th></th>\n",
              "      <th>Año</th>\n",
              "      <th>Departamento</th>\n",
              "      <th>Energia_GWh</th>\n",
              "      <th>Tipo</th>\n",
              "    </tr>\n",
              "  </thead>\n",
              "  <tbody>\n",
              "    <tr>\n",
              "      <th>2405</th>\n",
              "      <td>2024</td>\n",
              "      <td>Valle Del Cauca</td>\n",
              "      <td>335.79444</td>\n",
              "      <td>Demanda</td>\n",
              "    </tr>\n",
              "    <tr>\n",
              "      <th>2435</th>\n",
              "      <td>2024</td>\n",
              "      <td>Valle Del Cauca</td>\n",
              "      <td>257.62071</td>\n",
              "      <td>Demanda</td>\n",
              "    </tr>\n",
              "    <tr>\n",
              "      <th>2529</th>\n",
              "      <td>2024</td>\n",
              "      <td>Valle Del Cauca</td>\n",
              "      <td>80.24387</td>\n",
              "      <td>Demanda</td>\n",
              "    </tr>\n",
              "    <tr>\n",
              "      <th>2538</th>\n",
              "      <td>2024</td>\n",
              "      <td>Valle Del Cauca</td>\n",
              "      <td>56.27750</td>\n",
              "      <td>Demanda</td>\n",
              "    </tr>\n",
              "    <tr>\n",
              "      <th>2546</th>\n",
              "      <td>2024</td>\n",
              "      <td>Valle Del Cauca</td>\n",
              "      <td>28.10949</td>\n",
              "      <td>Demanda</td>\n",
              "    </tr>\n",
              "  </tbody>\n",
              "</table>\n",
              "</div>"
            ],
            "text/plain": [
              "       Año     Departamento  Energia_GWh     Tipo\n",
              "2405  2024  Valle Del Cauca    335.79444  Demanda\n",
              "2435  2024  Valle Del Cauca    257.62071  Demanda\n",
              "2529  2024  Valle Del Cauca     80.24387  Demanda\n",
              "2538  2024  Valle Del Cauca     56.27750  Demanda\n",
              "2546  2024  Valle Del Cauca     28.10949  Demanda"
            ]
          },
          "metadata": {},
          "output_type": "display_data"
        }
      ],
      "source": [
        "# Unir los dos DataFrames en una única tabla\n",
        "df_unificado = pd.concat([produccion_para_unir, demanda_limpia], ignore_index=True)\n",
        "\n",
        "df_unificado.sort_values(by=['Año', 'Departamento'], inplace=True)\n",
        "\n",
        "# Verificar el resultado final\n",
        "print(\"DataFrame Unificado y Listo para Power BI\")\n",
        "display(df_unificado.head())\n",
        "print(\"...\")\n",
        "display(df_unificado.tail())"
      ]
    },
    {
      "cell_type": "code",
      "execution_count": 33,
      "metadata": {
        "colab": {
          "base_uri": "https://localhost:8080/"
        },
        "id": "wbjowAtci-iX",
        "outputId": "7cba746a-045f-4c62-b466-47285a2b24bc"
      },
      "outputs": [
        {
          "name": "stdout",
          "output_type": "stream",
          "text": [
            "Departamentos Normalizados\n",
            "['Antioquia' 'Atlántico' 'Arauca' 'Bogotá, D.C.' 'Bolívar' 'Boyacá'\n",
            " 'Bogotá. D.C.' 'Caldas' 'Casanare' 'Cauca' 'Cundinamarca' 'Caquetá'\n",
            " 'Cesar' 'Chocó' 'Córdoba' 'Huila' 'La Guajira' 'Magdalena' 'Meta'\n",
            " 'Nariño' 'Norte De Santander' 'No Asignado / Menores' 'Putumayo'\n",
            " 'Quindío' 'Risaralda' 'Santander' 'Sucre' 'Tolima' 'Valle Del Cauca']\n"
          ]
        }
      ],
      "source": [
        "#Normalizar la columna de Dpto\n",
        "\n",
        "df_unificado['Departamento'] = df_unificado['Departamento'].str.title()\n",
        "\n",
        "print(\"Departamentos Normalizados\")\n",
        "print(df_unificado['Departamento'].unique())"
      ]
    },
    {
      "cell_type": "code",
      "execution_count": 34,
      "metadata": {
        "colab": {
          "base_uri": "https://localhost:8080/",
          "height": 206
        },
        "id": "JnjcE9mEjYLo",
        "outputId": "c95d1e06-4648-4be6-a361-dd90a2121bbf"
      },
      "outputs": [
        {
          "data": {
            "text/html": [
              "<div>\n",
              "<style scoped>\n",
              "    .dataframe tbody tr th:only-of-type {\n",
              "        vertical-align: middle;\n",
              "    }\n",
              "\n",
              "    .dataframe tbody tr th {\n",
              "        vertical-align: top;\n",
              "    }\n",
              "\n",
              "    .dataframe thead th {\n",
              "        text-align: right;\n",
              "    }\n",
              "</style>\n",
              "<table border=\"1\" class=\"dataframe\">\n",
              "  <thead>\n",
              "    <tr style=\"text-align: right;\">\n",
              "      <th></th>\n",
              "      <th>Año</th>\n",
              "      <th>Departamento</th>\n",
              "      <th>Energia_GWh</th>\n",
              "      <th>Tipo</th>\n",
              "    </tr>\n",
              "  </thead>\n",
              "  <tbody>\n",
              "    <tr>\n",
              "      <th>0</th>\n",
              "      <td>2015</td>\n",
              "      <td>Antioquia</td>\n",
              "      <td>23974.773169</td>\n",
              "      <td>Produccion</td>\n",
              "    </tr>\n",
              "    <tr>\n",
              "      <th>1</th>\n",
              "      <td>2015</td>\n",
              "      <td>Atlántico</td>\n",
              "      <td>11224.281977</td>\n",
              "      <td>Produccion</td>\n",
              "    </tr>\n",
              "    <tr>\n",
              "      <th>3139</th>\n",
              "      <td>2015</td>\n",
              "      <td>Antioquia</td>\n",
              "      <td>343.684690</td>\n",
              "      <td>Demanda</td>\n",
              "    </tr>\n",
              "    <tr>\n",
              "      <th>3140</th>\n",
              "      <td>2015</td>\n",
              "      <td>Antioquia</td>\n",
              "      <td>20732.464590</td>\n",
              "      <td>Demanda</td>\n",
              "    </tr>\n",
              "    <tr>\n",
              "      <th>3141</th>\n",
              "      <td>2015</td>\n",
              "      <td>Antioquia</td>\n",
              "      <td>729.334300</td>\n",
              "      <td>Demanda</td>\n",
              "    </tr>\n",
              "  </tbody>\n",
              "</table>\n",
              "</div>"
            ],
            "text/plain": [
              "       Año Departamento   Energia_GWh        Tipo\n",
              "0     2015    Antioquia  23974.773169  Produccion\n",
              "1     2015    Atlántico  11224.281977  Produccion\n",
              "3139  2015    Antioquia    343.684690     Demanda\n",
              "3140  2015    Antioquia  20732.464590     Demanda\n",
              "3141  2015    Antioquia    729.334300     Demanda"
            ]
          },
          "execution_count": 34,
          "metadata": {},
          "output_type": "execute_result"
        }
      ],
      "source": [
        "df_unificado.head()"
      ]
    },
    {
      "cell_type": "code",
      "execution_count": null,
      "metadata": {
        "colab": {
          "base_uri": "https://localhost:8080/"
        },
        "id": "hqrFQAro6w8p",
        "outputId": "985d91b7-6dd3-4126-ce37-96dc6dab2c89"
      },
      "outputs": [
        {
          "name": "stdout",
          "output_type": "stream",
          "text": [
            "     Año  Departamento        Tipo   Energia_GWh\n",
            "0   2015     Antioquia     Demanda  2.875311e+06\n",
            "1   2015     Antioquia  Produccion  2.397477e+04\n",
            "2   2015        Arauca     Demanda  3.955137e+05\n",
            "3   2015     Atlántico     Demanda  1.149667e+06\n",
            "4   2015     Atlántico  Produccion  1.122428e+04\n",
            "5   2015  Bogotá, D.C.  Produccion  2.020458e+01\n",
            "6   2015  Bogotá. D.C.     Demanda  2.764870e+06\n",
            "7   2015       Bolívar     Demanda  1.107525e+06\n",
            "8   2015       Bolívar  Produccion  1.205155e+03\n",
            "9   2015        Boyacá     Demanda  1.900287e+06\n",
            "10  2015        Boyacá  Produccion  7.394486e+03\n",
            "11  2015        Caldas     Demanda  4.534544e+05\n",
            "12  2015        Caldas  Produccion  1.568396e+03\n",
            "13  2015       Caquetá     Demanda  4.503246e+03\n",
            "14  2015      Casanare     Demanda  5.502151e+04\n",
            "15  2015      Casanare  Produccion  8.188844e+02\n",
            "16  2015         Cauca     Demanda  3.913336e+05\n",
            "17  2015         Cauca  Produccion  1.000682e+03\n",
            "18  2015         Cesar     Demanda  2.415887e+05\n",
            "19  2015         Chocó     Demanda  1.127084e+04\n",
            "20  2015  Cundinamarca     Demanda  1.774214e+06\n",
            "21  2015  Cundinamarca  Produccion  1.527094e+04\n",
            "22  2015       Córdoba     Demanda  1.470549e+06\n",
            "23  2015       Córdoba  Produccion  1.440368e+03\n",
            "24  2015         Huila     Demanda  2.176769e+05\n",
            "25  2015         Huila  Produccion  1.733115e+03\n",
            "26  2015    La Guajira     Demanda  3.121127e+05\n",
            "27  2015    La Guajira  Produccion  2.446343e+03\n",
            "28  2015     Magdalena     Demanda  2.964456e+05\n",
            "29  2015          Meta     Demanda  6.557972e+05\n"
          ]
        }
      ],
      "source": [
        "#Agrupar por las tres columnas y sumar la energía\n",
        "df_agrupado = df_unificado.groupby(['Año', 'Departamento', 'Tipo'])['Energia_GWh'].sum().reset_index()\n",
        "\n",
        "print(df_agrupado.head(30))"
      ]
    },
    {
      "cell_type": "code",
      "execution_count": 37,
      "metadata": {},
      "outputs": [
        {
          "name": "stdout",
          "output_type": "stream",
          "text": [
            "     Año  Departamento       demanda    produccion\n",
            "0   2015     Antioquia  2.875311e+06  23974.773169\n",
            "1   2015        Arauca  3.955137e+05      0.000000\n",
            "2   2015     Atlántico  1.149667e+06  11224.281977\n",
            "3   2015  Bogotá, D.C.  0.000000e+00     20.204581\n",
            "4   2015  Bogotá. D.C.  2.764870e+06      0.000000\n",
            "5   2015       Bolívar  1.107525e+06   1205.155267\n",
            "6   2015        Boyacá  1.900287e+06   7394.486413\n",
            "7   2015        Caldas  4.534544e+05   1568.395504\n",
            "8   2015       Caquetá  4.503246e+03      0.000000\n",
            "9   2015      Casanare  5.502151e+04    818.884378\n",
            "10  2015         Cauca  3.913336e+05   1000.681798\n",
            "11  2015         Cesar  2.415887e+05      0.000000\n",
            "12  2015         Chocó  1.127084e+04      0.000000\n",
            "13  2015  Cundinamarca  1.774214e+06  15270.937250\n",
            "14  2015       Córdoba  1.470549e+06   1440.367882\n",
            "15  2015         Huila  2.176769e+05   1733.114951\n",
            "16  2015    La Guajira  3.121127e+05   2446.342910\n",
            "17  2015     Magdalena  2.964456e+05      0.000000\n",
            "18  2015          Meta  6.557972e+05      0.000000\n",
            "19  2015        Nariño  5.174765e+04    130.773669\n"
          ]
        }
      ],
      "source": [
        "df_nuevo = df_agrupado.pivot_table(\n",
        "    index=['Año', 'Departamento'],\n",
        "    columns='Tipo',\n",
        "    values='Energia_GWh'\n",
        ").reset_index()\n",
        "\n",
        "df_nuevo = df_nuevo.fillna(0)\n",
        "df_nuevo.columns.name = None\n",
        "df_nuevo.rename(columns={'Demanda': 'demanda', 'Produccion': 'produccion'}, inplace=True)\n",
        "\n",
        "print(df_nuevo.head(20))"
      ]
    },
    {
      "cell_type": "code",
      "execution_count": 38,
      "metadata": {},
      "outputs": [
        {
          "name": "stdout",
          "output_type": "stream",
          "text": [
            "Verificando una de las filas agregadas (Amazonas):\n",
            "      Año Departamento  demanda  produccion\n",
            "290  2015     Amazonas      0.0         0.0\n",
            "296  2016     Amazonas      0.0         0.0\n",
            "302  2017     Amazonas      0.0         0.0\n",
            "308  2018     Amazonas      0.0         0.0\n",
            "314  2019     Amazonas      0.0         0.0\n",
            "320  2020     Amazonas      0.0         0.0\n",
            "326  2021     Amazonas      0.0         0.0\n",
            "332  2022     Amazonas      0.0         0.0\n",
            "338  2023     Amazonas      0.0         0.0\n",
            "344  2024     Amazonas      0.0         0.0\n"
          ]
        }
      ],
      "source": [
        "departamentos_unicos = df_nuevo['Departamento'].unique()\n",
        "\n",
        "nuevos_departamentos = [\n",
        "    'Amazonas', 'Guainía', 'Guaviare',\n",
        "    'San Andrés, Providencia y Santa Catalina', 'Vaupés', 'Vichada'\n",
        "]\n",
        "todos_los_deptos = sorted(list(set(list(departamentos_unicos) + nuevos_departamentos)))\n",
        "todos_los_años = df_nuevo['Año'].unique()\n",
        "\n",
        "# --- Bucle para encontrar y crear las filas faltantes ---\n",
        "filas_nuevas = []\n",
        "\n",
        "for año in todos_los_años:\n",
        "  deptos_existentes = df_nuevo[df_nuevo['Año'] == año]['Departamento'].unique()\n",
        "\n",
        "  for depto in todos_los_deptos:\n",
        "    if depto not in deptos_existentes:\n",
        "      filas_nuevas.append({'Año': año, 'Departamento': depto, 'demanda': 0, 'produccion': 0})\n",
        "\n",
        "# --- Creación y concatenación del DataFrame final (tu código aquí es correcto) ---\n",
        "df_filas_nuevas = pd.DataFrame(filas_nuevas)\n",
        "\n",
        "df_final_bucle = pd.concat([df_nuevo, df_filas_nuevas], ignore_index=True)\n",
        "\n",
        "# Imprimir las últimas filas para verificar que se agregaron correctamente\n",
        "print(\"Verificando una de las filas agregadas (Amazonas):\")\n",
        "print(df_final_bucle[df_final_bucle['Departamento'] == 'Amazonas'])"
      ]
    },
    {
      "cell_type": "code",
      "execution_count": 39,
      "metadata": {},
      "outputs": [
        {
          "name": "stdout",
          "output_type": "stream",
          "text": [
            "     Año                              Departamento       demanda    produccion\n",
            "0   2015                                  Amazonas  0.000000e+00      0.000000\n",
            "1   2015                                 Antioquia  2.875311e+06  23974.773169\n",
            "2   2015                                    Arauca  3.955137e+05      0.000000\n",
            "3   2015                                 Atlántico  1.149667e+06  11224.281977\n",
            "4   2015                              Bogotá, D.C.  0.000000e+00     20.204581\n",
            "5   2015                              Bogotá. D.C.  2.764870e+06      0.000000\n",
            "6   2015                                   Bolívar  1.107525e+06   1205.155267\n",
            "7   2015                                    Boyacá  1.900287e+06   7394.486413\n",
            "8   2015                                    Caldas  4.534544e+05   1568.395504\n",
            "9   2015                                   Caquetá  4.503246e+03      0.000000\n",
            "10  2015                                  Casanare  5.502151e+04    818.884378\n",
            "11  2015                                     Cauca  3.913336e+05   1000.681798\n",
            "12  2015                                     Cesar  2.415887e+05      0.000000\n",
            "13  2015                                     Chocó  1.127084e+04      0.000000\n",
            "14  2015                              Cundinamarca  1.774214e+06  15270.937250\n",
            "15  2015                                   Córdoba  1.470549e+06   1440.367882\n",
            "16  2015                                   Guainía  0.000000e+00      0.000000\n",
            "17  2015                                  Guaviare  0.000000e+00      0.000000\n",
            "18  2015                                     Huila  2.176769e+05   1733.114951\n",
            "19  2015                                La Guajira  3.121127e+05   2446.342910\n",
            "20  2015                                 Magdalena  2.964456e+05      0.000000\n",
            "21  2015                                      Meta  6.557972e+05      0.000000\n",
            "22  2015                                    Nariño  5.174765e+04    130.773669\n",
            "23  2015                     No Asignado / Menores  0.000000e+00    592.141265\n",
            "24  2015                        Norte De Santander  2.542190e+05   2456.691303\n",
            "25  2015                                  Putumayo  5.763274e+04      2.939677\n",
            "26  2015                                   Quindío  5.632109e+04     22.652840\n",
            "27  2015                                 Risaralda  2.340489e+05     37.715147\n",
            "28  2015  San Andrés, Providencia y Santa Catalina  0.000000e+00      0.000000\n",
            "29  2015                                 Santander  8.771673e+05   5653.785476\n",
            "30  2015                                     Sucre  1.093830e+05      0.000000\n",
            "31  2015                                    Tolima  4.064197e+05    686.316845\n",
            "32  2015                           Valle Del Cauca  2.767661e+06   4383.127278\n",
            "33  2015                                    Vaupés  0.000000e+00      0.000000\n",
            "34  2015                                   Vichada  0.000000e+00      0.000000\n",
            "35  2016                                  Amazonas  0.000000e+00      0.000000\n",
            "36  2016                                 Antioquia  2.769817e+06  23135.059003\n",
            "37  2016                                    Arauca  3.558572e+05      0.000000\n",
            "38  2016                                 Atlántico  1.186414e+06   8975.800664\n",
            "39  2016                              Bogotá, D.C.  0.000000e+00     21.580236\n"
          ]
        }
      ],
      "source": [
        "# Ordenamos el DataFrame final por la columna 'Año' y luego por 'Departamento'\n",
        "df_ordenado = df_final_bucle.sort_values(by=['Año', 'Departamento']).reset_index(drop=True)\n",
        "\n",
        "# Mostramos las primeras 35 filas para que puedas ver el orden\n",
        "print(df_ordenado.head(40))"
      ]
    },
    {
      "cell_type": "code",
      "execution_count": 40,
      "metadata": {},
      "outputs": [
        {
          "name": "stdout",
          "output_type": "stream",
          "text": [
            "¡DataFrame exportado exitosamente a 'output/datos_filtrados.csv'!\n"
          ]
        }
      ],
      "source": [
        "import os # Importamos la librería 'os' para manejar carpetas\n",
        "\n",
        "#Definir el nombre de la carpeta de salida\n",
        "output_dir = 'output'\n",
        "\n",
        "#Crear la carpeta si no existe\n",
        "if not os.path.exists(output_dir):\n",
        "    os.makedirs(output_dir)\n",
        "\n",
        "#Definir la ruta completa del archivo de salida\n",
        "ruta_salida = os.path.join(output_dir, 'datos_filtrados.csv')\n",
        "\n",
        "#Exportar el DataFrame a CSV\n",
        "df_ordenado.to_csv(ruta_salida, index=False)\n",
        "\n",
        "print(f\"¡DataFrame exportado exitosamente a '{ruta_salida}'!\")"
      ]
    }
  ],
  "metadata": {
    "colab": {
      "authorship_tag": "ABX9TyNGwT4YRi2RwAXVlZha3jQf",
      "include_colab_link": true,
      "mount_file_id": "19z5rMOw6pqGs7FgqySl9OKtGd6bSjvuG",
      "provenance": []
    },
    "kernelspec": {
      "display_name": "Python 3",
      "name": "python3"
    },
    "language_info": {
      "codemirror_mode": {
        "name": "ipython",
        "version": 3
      },
      "file_extension": ".py",
      "mimetype": "text/x-python",
      "name": "python",
      "nbconvert_exporter": "python",
      "pygments_lexer": "ipython3",
      "version": "3.12.1"
    }
  },
  "nbformat": 4,
  "nbformat_minor": 0
}
