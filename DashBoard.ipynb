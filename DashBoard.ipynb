{
  "nbformat": 4,
  "nbformat_minor": 0,
  "metadata": {
    "colab": {
      "provenance": [],
      "include_colab_link": true
    },
    "kernelspec": {
      "name": "python3",
      "display_name": "Python 3"
    },
    "language_info": {
      "name": "python"
    }
  },
  "cells": [
    {
      "cell_type": "markdown",
      "metadata": {
        "id": "view-in-github",
        "colab_type": "text"
      },
      "source": [
        "<a href=\"https://colab.research.google.com/github/Deni1019/Bootcamp-Caracteristicas-del-mercado-energ-tico/blob/main/DashBoard.ipynb\" target=\"_parent\"><img src=\"https://colab.research.google.com/assets/colab-badge.svg\" alt=\"Open In Colab\"/></a>"
      ]
    },
    {
      "cell_type": "code",
      "source": [
        "pip install streamlit plotly pandas seaborn matplotlib"
      ],
      "metadata": {
        "colab": {
          "base_uri": "https://localhost:8080/"
        },
        "id": "StiFawvpP2S2",
        "outputId": "ecf186cb-59ca-4055-99dd-bbd0be5f006e"
      },
      "execution_count": null,
      "outputs": [
        {
          "output_type": "stream",
          "name": "stdout",
          "text": [
            "Requirement already satisfied: streamlit in /usr/local/lib/python3.11/dist-packages (1.48.1)\n",
            "Requirement already satisfied: plotly in /usr/local/lib/python3.11/dist-packages (5.24.1)\n",
            "Requirement already satisfied: pandas in /usr/local/lib/python3.11/dist-packages (2.2.2)\n",
            "Requirement already satisfied: seaborn in /usr/local/lib/python3.11/dist-packages (0.13.2)\n",
            "Requirement already satisfied: matplotlib in /usr/local/lib/python3.11/dist-packages (3.10.0)\n",
            "Requirement already satisfied: altair!=5.4.0,!=5.4.1,<6,>=4.0 in /usr/local/lib/python3.11/dist-packages (from streamlit) (5.5.0)\n",
            "Requirement already satisfied: blinker<2,>=1.5.0 in /usr/local/lib/python3.11/dist-packages (from streamlit) (1.9.0)\n",
            "Requirement already satisfied: cachetools<7,>=4.0 in /usr/local/lib/python3.11/dist-packages (from streamlit) (5.5.2)\n",
            "Requirement already satisfied: click<9,>=7.0 in /usr/local/lib/python3.11/dist-packages (from streamlit) (8.2.1)\n",
            "Requirement already satisfied: numpy<3,>=1.23 in /usr/local/lib/python3.11/dist-packages (from streamlit) (2.0.2)\n",
            "Requirement already satisfied: packaging<26,>=20 in /usr/local/lib/python3.11/dist-packages (from streamlit) (25.0)\n",
            "Requirement already satisfied: pillow<12,>=7.1.0 in /usr/local/lib/python3.11/dist-packages (from streamlit) (11.3.0)\n",
            "Requirement already satisfied: protobuf<7,>=3.20 in /usr/local/lib/python3.11/dist-packages (from streamlit) (5.29.5)\n",
            "Requirement already satisfied: pyarrow>=7.0 in /usr/local/lib/python3.11/dist-packages (from streamlit) (18.1.0)\n",
            "Requirement already satisfied: requests<3,>=2.27 in /usr/local/lib/python3.11/dist-packages (from streamlit) (2.32.3)\n",
            "Requirement already satisfied: tenacity<10,>=8.1.0 in /usr/local/lib/python3.11/dist-packages (from streamlit) (9.1.2)\n",
            "Requirement already satisfied: toml<2,>=0.10.1 in /usr/local/lib/python3.11/dist-packages (from streamlit) (0.10.2)\n",
            "Requirement already satisfied: typing-extensions<5,>=4.4.0 in /usr/local/lib/python3.11/dist-packages (from streamlit) (4.14.1)\n",
            "Requirement already satisfied: watchdog<7,>=2.1.5 in /usr/local/lib/python3.11/dist-packages (from streamlit) (6.0.0)\n",
            "Requirement already satisfied: gitpython!=3.1.19,<4,>=3.0.7 in /usr/local/lib/python3.11/dist-packages (from streamlit) (3.1.45)\n",
            "Requirement already satisfied: pydeck<1,>=0.8.0b4 in /usr/local/lib/python3.11/dist-packages (from streamlit) (0.9.1)\n",
            "Requirement already satisfied: tornado!=6.5.0,<7,>=6.0.3 in /usr/local/lib/python3.11/dist-packages (from streamlit) (6.4.2)\n",
            "Requirement already satisfied: python-dateutil>=2.8.2 in /usr/local/lib/python3.11/dist-packages (from pandas) (2.9.0.post0)\n",
            "Requirement already satisfied: pytz>=2020.1 in /usr/local/lib/python3.11/dist-packages (from pandas) (2025.2)\n",
            "Requirement already satisfied: tzdata>=2022.7 in /usr/local/lib/python3.11/dist-packages (from pandas) (2025.2)\n",
            "Requirement already satisfied: contourpy>=1.0.1 in /usr/local/lib/python3.11/dist-packages (from matplotlib) (1.3.3)\n",
            "Requirement already satisfied: cycler>=0.10 in /usr/local/lib/python3.11/dist-packages (from matplotlib) (0.12.1)\n",
            "Requirement already satisfied: fonttools>=4.22.0 in /usr/local/lib/python3.11/dist-packages (from matplotlib) (4.59.0)\n",
            "Requirement already satisfied: kiwisolver>=1.3.1 in /usr/local/lib/python3.11/dist-packages (from matplotlib) (1.4.9)\n",
            "Requirement already satisfied: pyparsing>=2.3.1 in /usr/local/lib/python3.11/dist-packages (from matplotlib) (3.2.3)\n",
            "Requirement already satisfied: jinja2 in /usr/local/lib/python3.11/dist-packages (from altair!=5.4.0,!=5.4.1,<6,>=4.0->streamlit) (3.1.6)\n",
            "Requirement already satisfied: jsonschema>=3.0 in /usr/local/lib/python3.11/dist-packages (from altair!=5.4.0,!=5.4.1,<6,>=4.0->streamlit) (4.25.0)\n",
            "Requirement already satisfied: narwhals>=1.14.2 in /usr/local/lib/python3.11/dist-packages (from altair!=5.4.0,!=5.4.1,<6,>=4.0->streamlit) (2.1.0)\n",
            "Requirement already satisfied: gitdb<5,>=4.0.1 in /usr/local/lib/python3.11/dist-packages (from gitpython!=3.1.19,<4,>=3.0.7->streamlit) (4.0.12)\n",
            "Requirement already satisfied: six>=1.5 in /usr/local/lib/python3.11/dist-packages (from python-dateutil>=2.8.2->pandas) (1.17.0)\n",
            "Requirement already satisfied: charset-normalizer<4,>=2 in /usr/local/lib/python3.11/dist-packages (from requests<3,>=2.27->streamlit) (3.4.3)\n",
            "Requirement already satisfied: idna<4,>=2.5 in /usr/local/lib/python3.11/dist-packages (from requests<3,>=2.27->streamlit) (3.10)\n",
            "Requirement already satisfied: urllib3<3,>=1.21.1 in /usr/local/lib/python3.11/dist-packages (from requests<3,>=2.27->streamlit) (2.5.0)\n",
            "Requirement already satisfied: certifi>=2017.4.17 in /usr/local/lib/python3.11/dist-packages (from requests<3,>=2.27->streamlit) (2025.8.3)\n",
            "Requirement already satisfied: smmap<6,>=3.0.1 in /usr/local/lib/python3.11/dist-packages (from gitdb<5,>=4.0.1->gitpython!=3.1.19,<4,>=3.0.7->streamlit) (5.0.2)\n",
            "Requirement already satisfied: MarkupSafe>=2.0 in /usr/local/lib/python3.11/dist-packages (from jinja2->altair!=5.4.0,!=5.4.1,<6,>=4.0->streamlit) (3.0.2)\n",
            "Requirement already satisfied: attrs>=22.2.0 in /usr/local/lib/python3.11/dist-packages (from jsonschema>=3.0->altair!=5.4.0,!=5.4.1,<6,>=4.0->streamlit) (25.3.0)\n",
            "Requirement already satisfied: jsonschema-specifications>=2023.03.6 in /usr/local/lib/python3.11/dist-packages (from jsonschema>=3.0->altair!=5.4.0,!=5.4.1,<6,>=4.0->streamlit) (2025.4.1)\n",
            "Requirement already satisfied: referencing>=0.28.4 in /usr/local/lib/python3.11/dist-packages (from jsonschema>=3.0->altair!=5.4.0,!=5.4.1,<6,>=4.0->streamlit) (0.36.2)\n",
            "Requirement already satisfied: rpds-py>=0.7.1 in /usr/local/lib/python3.11/dist-packages (from jsonschema>=3.0->altair!=5.4.0,!=5.4.1,<6,>=4.0->streamlit) (0.27.0)\n"
          ]
        }
      ]
    },
    {
      "cell_type": "code",
      "source": [
        "import streamlit as st\n",
        "import plotly.express as px\n",
        "import pandas as pd\n",
        "import seaborn as sns\n",
        "import matplotlib.pyplot as plt\n",
        "import plotly.graph_objects as go\n",
        "from plotly.subplots import make_subplots\n",
        "from datetime import datetime, timedelta\n",
        "import numpy as np\n"
      ],
      "metadata": {
        "id": "jIw6vUuHQaCX"
      },
      "execution_count": null,
      "outputs": []
    },
    {
      "cell_type": "code",
      "source": [
        "np.random.seed(42)\n",
        "fechas = pd.date_range('2023-01-01', '2024-12-31', freq = 'D')\n",
        "n_productos = ['Laptop','Mouse','Teclado','Monitor','Auriculares']\n",
        "regiones = ['Norte', 'Sur', 'Este', 'Oeste', 'Centro']\n"
      ],
      "metadata": {
        "id": "7c_eI_6wSFlX"
      },
      "execution_count": null,
      "outputs": []
    },
    {
      "cell_type": "code",
      "source": [
        "print(len(fechas))"
      ],
      "metadata": {
        "colab": {
          "base_uri": "https://localhost:8080/"
        },
        "id": "fAKo5dEcU--V",
        "outputId": "c6e02040-25f4-468a-9553-3c7cd6776378"
      },
      "execution_count": null,
      "outputs": [
        {
          "output_type": "stream",
          "name": "stdout",
          "text": [
            "731\n"
          ]
        }
      ]
    },
    {
      "cell_type": "code",
      "source": [
        "data = []\n",
        "for fecha in fechas:\n",
        "    for _ in range(np.random.poisson(10)):\n",
        "       data.append(\n",
        "           {\n",
        "               'Fecha': fecha,\n",
        "               'Producto': np.random.choice(n_productos),\n",
        "               'Region': np.random.choice(regiones),\n",
        "               'cantidad': np.random.randint(1, 6),\n",
        "               'precio_unitario': np.random.uniform(50, 1500),\n",
        "               'vendedor': f'Vendedor_{np.random.randint(1,21)}'\n",
        "           }\n",
        "       )"
      ],
      "metadata": {
        "id": "uIBuC_AtVGnl"
      },
      "execution_count": null,
      "outputs": []
    },
    {
      "cell_type": "code",
      "source": [
        "df = pd.DataFrame(data)\n",
        "df['venta_total'] = df['cantidad'] * df['precio_unitario']\n",
        "print(df)"
      ],
      "metadata": {
        "id": "WxXVDjngWX7V",
        "colab": {
          "base_uri": "https://localhost:8080/"
        },
        "outputId": "1d2d4703-6c53-464c-964e-c67993b64618"
      },
      "execution_count": null,
      "outputs": [
        {
          "output_type": "stream",
          "name": "stdout",
          "text": [
            "          Fecha     Producto  Region  cantidad  precio_unitario     vendedor  \\\n",
            "0    2023-01-01        Mouse    Este         3       715.910893   Vendedor_4   \n",
            "1    2023-01-01      Teclado  Centro         2      1096.898220   Vendedor_6   \n",
            "2    2023-01-01        Mouse   Oeste         5       945.348189  Vendedor_12   \n",
            "3    2023-01-01       Laptop   Norte         3       937.186697  Vendedor_10   \n",
            "4    2023-01-01      Monitor   Oeste         3       604.569887  Vendedor_20   \n",
            "...         ...          ...     ...       ...              ...          ...   \n",
            "7248 2024-12-31      Teclado     Sur         5       210.839857   Vendedor_8   \n",
            "7249 2024-12-31      Monitor    Este         5       951.901559   Vendedor_6   \n",
            "7250 2024-12-31  Auriculares   Oeste         2      1368.931861  Vendedor_17   \n",
            "7251 2024-12-31       Laptop    Este         1       133.324073  Vendedor_19   \n",
            "7252 2024-12-31       Laptop   Oeste         3       468.334214  Vendedor_15   \n",
            "\n",
            "      venta_total  \n",
            "0     2147.732680  \n",
            "1     2193.796440  \n",
            "2     4726.740945  \n",
            "3     2811.560092  \n",
            "4     1813.709662  \n",
            "...           ...  \n",
            "7248  1054.199284  \n",
            "7249  4759.507793  \n",
            "7250  2737.863722  \n",
            "7251   133.324073  \n",
            "7252  1405.002642  \n",
            "\n",
            "[7253 rows x 7 columns]\n"
          ]
        }
      ]
    },
    {
      "cell_type": "code",
      "source": [
        "df.head()"
      ],
      "metadata": {
        "colab": {
          "base_uri": "https://localhost:8080/",
          "height": 206
        },
        "id": "uRQGGi5BX4V8",
        "outputId": "79631336-73e6-4d3f-897e-685b591a3628"
      },
      "execution_count": null,
      "outputs": [
        {
          "output_type": "execute_result",
          "data": {
            "text/plain": [
              "       Fecha Producto  Region  cantidad  precio_unitario     vendedor  \\\n",
              "0 2023-01-01    Mouse    Este         3       715.910893   Vendedor_4   \n",
              "1 2023-01-01  Teclado  Centro         2      1096.898220   Vendedor_6   \n",
              "2 2023-01-01    Mouse   Oeste         5       945.348189  Vendedor_12   \n",
              "3 2023-01-01   Laptop   Norte         3       937.186697  Vendedor_10   \n",
              "4 2023-01-01  Monitor   Oeste         3       604.569887  Vendedor_20   \n",
              "\n",
              "   venta_total  \n",
              "0  2147.732680  \n",
              "1  2193.796440  \n",
              "2  4726.740945  \n",
              "3  2811.560092  \n",
              "4  1813.709662  "
            ],
            "text/html": [
              "\n",
              "  <div id=\"df-47175e0c-124b-414e-a0c2-928d096b52d4\" class=\"colab-df-container\">\n",
              "    <div>\n",
              "<style scoped>\n",
              "    .dataframe tbody tr th:only-of-type {\n",
              "        vertical-align: middle;\n",
              "    }\n",
              "\n",
              "    .dataframe tbody tr th {\n",
              "        vertical-align: top;\n",
              "    }\n",
              "\n",
              "    .dataframe thead th {\n",
              "        text-align: right;\n",
              "    }\n",
              "</style>\n",
              "<table border=\"1\" class=\"dataframe\">\n",
              "  <thead>\n",
              "    <tr style=\"text-align: right;\">\n",
              "      <th></th>\n",
              "      <th>Fecha</th>\n",
              "      <th>Producto</th>\n",
              "      <th>Region</th>\n",
              "      <th>cantidad</th>\n",
              "      <th>precio_unitario</th>\n",
              "      <th>vendedor</th>\n",
              "      <th>venta_total</th>\n",
              "    </tr>\n",
              "  </thead>\n",
              "  <tbody>\n",
              "    <tr>\n",
              "      <th>0</th>\n",
              "      <td>2023-01-01</td>\n",
              "      <td>Mouse</td>\n",
              "      <td>Este</td>\n",
              "      <td>3</td>\n",
              "      <td>715.910893</td>\n",
              "      <td>Vendedor_4</td>\n",
              "      <td>2147.732680</td>\n",
              "    </tr>\n",
              "    <tr>\n",
              "      <th>1</th>\n",
              "      <td>2023-01-01</td>\n",
              "      <td>Teclado</td>\n",
              "      <td>Centro</td>\n",
              "      <td>2</td>\n",
              "      <td>1096.898220</td>\n",
              "      <td>Vendedor_6</td>\n",
              "      <td>2193.796440</td>\n",
              "    </tr>\n",
              "    <tr>\n",
              "      <th>2</th>\n",
              "      <td>2023-01-01</td>\n",
              "      <td>Mouse</td>\n",
              "      <td>Oeste</td>\n",
              "      <td>5</td>\n",
              "      <td>945.348189</td>\n",
              "      <td>Vendedor_12</td>\n",
              "      <td>4726.740945</td>\n",
              "    </tr>\n",
              "    <tr>\n",
              "      <th>3</th>\n",
              "      <td>2023-01-01</td>\n",
              "      <td>Laptop</td>\n",
              "      <td>Norte</td>\n",
              "      <td>3</td>\n",
              "      <td>937.186697</td>\n",
              "      <td>Vendedor_10</td>\n",
              "      <td>2811.560092</td>\n",
              "    </tr>\n",
              "    <tr>\n",
              "      <th>4</th>\n",
              "      <td>2023-01-01</td>\n",
              "      <td>Monitor</td>\n",
              "      <td>Oeste</td>\n",
              "      <td>3</td>\n",
              "      <td>604.569887</td>\n",
              "      <td>Vendedor_20</td>\n",
              "      <td>1813.709662</td>\n",
              "    </tr>\n",
              "  </tbody>\n",
              "</table>\n",
              "</div>\n",
              "    <div class=\"colab-df-buttons\">\n",
              "      \n",
              "  <div class=\"colab-df-container\">\n",
              "    <button class=\"colab-df-convert\" onclick=\"convertToInteractive('df-47175e0c-124b-414e-a0c2-928d096b52d4')\"\n",
              "            title=\"Convert this dataframe to an interactive table.\"\n",
              "            style=\"display:none;\">\n",
              "      \n",
              "  <svg xmlns=\"http://www.w3.org/2000/svg\" height=\"24px\" viewBox=\"0 -960 960 960\">\n",
              "    <path d=\"M120-120v-720h720v720H120Zm60-500h600v-160H180v160Zm220 220h160v-160H400v160Zm0 220h160v-160H400v160ZM180-400h160v-160H180v160Zm440 0h160v-160H620v160ZM180-180h160v-160H180v160Zm440 0h160v-160H620v160Z\"/>\n",
              "  </svg>\n",
              "    </button>\n",
              "    \n",
              "  <style>\n",
              "    .colab-df-container {\n",
              "      display:flex;\n",
              "      gap: 12px;\n",
              "    }\n",
              "\n",
              "    .colab-df-convert {\n",
              "      background-color: #E8F0FE;\n",
              "      border: none;\n",
              "      border-radius: 50%;\n",
              "      cursor: pointer;\n",
              "      display: none;\n",
              "      fill: #1967D2;\n",
              "      height: 32px;\n",
              "      padding: 0 0 0 0;\n",
              "      width: 32px;\n",
              "    }\n",
              "\n",
              "    .colab-df-convert:hover {\n",
              "      background-color: #E2EBFA;\n",
              "      box-shadow: 0px 1px 2px rgba(60, 64, 67, 0.3), 0px 1px 3px 1px rgba(60, 64, 67, 0.15);\n",
              "      fill: #174EA6;\n",
              "    }\n",
              "\n",
              "    .colab-df-buttons div {\n",
              "      margin-bottom: 4px;\n",
              "    }\n",
              "\n",
              "    [theme=dark] .colab-df-convert {\n",
              "      background-color: #3B4455;\n",
              "      fill: #D2E3FC;\n",
              "    }\n",
              "\n",
              "    [theme=dark] .colab-df-convert:hover {\n",
              "      background-color: #434B5C;\n",
              "      box-shadow: 0px 1px 3px 1px rgba(0, 0, 0, 0.15);\n",
              "      filter: drop-shadow(0px 1px 2px rgba(0, 0, 0, 0.3));\n",
              "      fill: #FFFFFF;\n",
              "    }\n",
              "  </style>\n",
              "\n",
              "    <script>\n",
              "      const buttonEl =\n",
              "        document.querySelector('#df-47175e0c-124b-414e-a0c2-928d096b52d4 button.colab-df-convert');\n",
              "      buttonEl.style.display =\n",
              "        google.colab.kernel.accessAllowed ? 'block' : 'none';\n",
              "\n",
              "      async function convertToInteractive(key) {\n",
              "        const element = document.querySelector('#df-47175e0c-124b-414e-a0c2-928d096b52d4');\n",
              "        const dataTable =\n",
              "          await google.colab.kernel.invokeFunction('convertToInteractive',\n",
              "                                                    [key], {});\n",
              "        if (!dataTable) return;\n",
              "\n",
              "        const docLinkHtml = 'Like what you see? Visit the ' +\n",
              "          '<a target=\"_blank\" href=https://colab.research.google.com/notebooks/data_table.ipynb>data table notebook</a>'\n",
              "          + ' to learn more about interactive tables.';\n",
              "        element.innerHTML = '';\n",
              "        dataTable['output_type'] = 'display_data';\n",
              "        await google.colab.output.renderOutput(dataTable, element);\n",
              "        const docLink = document.createElement('div');\n",
              "        docLink.innerHTML = docLinkHtml;\n",
              "        element.appendChild(docLink);\n",
              "      }\n",
              "    </script>\n",
              "  </div>\n",
              "  \n",
              "    </div>\n",
              "  </div>\n",
              "  "
            ]
          },
          "metadata": {},
          "execution_count": 7
        }
      ]
    },
    {
      "cell_type": "code",
      "source": [
        "print(df.describe())"
      ],
      "metadata": {
        "colab": {
          "base_uri": "https://localhost:8080/"
        },
        "id": "VQR8N8JGX8I0",
        "outputId": "4d1e1903-0700-4dc4-e44b-6b1199fe8785"
      },
      "execution_count": null,
      "outputs": [
        {
          "output_type": "stream",
          "name": "stdout",
          "text": [
            "                               Fecha     cantidad  precio_unitario  \\\n",
            "count                           7253  7253.000000      7253.000000   \n",
            "mean   2023-12-28 05:04:33.486833152     3.011995       771.204622   \n",
            "min              2023-01-01 00:00:00     1.000000        50.211363   \n",
            "25%              2023-06-30 00:00:00     2.000000       416.385460   \n",
            "50%              2023-12-26 00:00:00     3.000000       767.047548   \n",
            "75%              2024-06-25 00:00:00     4.000000      1121.608562   \n",
            "max              2024-12-31 00:00:00     5.000000      1499.962108   \n",
            "std                              NaN     1.421020       412.857448   \n",
            "\n",
            "       venta_total  \n",
            "count  7253.000000  \n",
            "mean   2324.939379  \n",
            "min      50.349268  \n",
            "25%     902.734548  \n",
            "50%    1865.436770  \n",
            "75%    3425.496465  \n",
            "max    7499.221834  \n",
            "std    1762.451173  \n"
          ]
        }
      ]
    },
    {
      "cell_type": "code",
      "source": [
        "df_monthly = df.groupby(df['Fecha'].dt.to_period('M'))['venta_total'].sum().reset_index()\n",
        "df_monthly['Fecha'] = df_monthly['Fecha'].astype(str)\n",
        "print(df_monthly)"
      ],
      "metadata": {
        "colab": {
          "base_uri": "https://localhost:8080/"
        },
        "id": "uLy7kgYFY9SE",
        "outputId": "13751bf5-4244-4858-bd20-950f0b944452"
      },
      "execution_count": null,
      "outputs": [
        {
          "output_type": "stream",
          "name": "stdout",
          "text": [
            "      Fecha    venta_total\n",
            "0   2023-01  698236.092223\n",
            "1   2023-02  771177.713696\n",
            "2   2023-03  703929.404650\n",
            "3   2023-04  681246.244939\n",
            "4   2023-05  656314.326446\n",
            "5   2023-06  665508.801351\n",
            "6   2023-07  801100.457396\n",
            "7   2023-08  769081.345479\n",
            "8   2023-09  694692.878027\n",
            "9   2023-10  654356.720898\n",
            "10  2023-11  709220.022601\n",
            "11  2023-12  717784.025912\n",
            "12  2024-01  769067.345798\n",
            "13  2024-02  654218.138239\n",
            "14  2024-03  731737.821340\n",
            "15  2024-04  673054.432722\n",
            "16  2024-05  805671.131807\n",
            "17  2024-06  651905.878060\n",
            "18  2024-07  662690.293155\n",
            "19  2024-08  695045.454070\n",
            "20  2024-09  680720.866772\n",
            "21  2024-10  651698.171159\n",
            "22  2024-11  725161.500389\n",
            "23  2024-12  639166.246043\n"
          ]
        }
      ]
    },
    {
      "cell_type": "code",
      "source": [
        "fig_"
      ],
      "metadata": {
        "id": "5hXQZqGkZlfM"
      },
      "execution_count": null,
      "outputs": []
    }
  ]
}